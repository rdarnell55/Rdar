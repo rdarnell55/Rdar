{
 "cells": [
  {
   "cell_type": "code",
   "execution_count": null,
   "id": "e0536ce5-aa44-4314-839e-5fe035b92de7",
   "metadata": {},
   "outputs": [],
   "source": []
  },
  {
   "cell_type": "markdown",
   "id": "e76b3c0d-cc14-4c57-b3b4-17a0ad870c62",
   "metadata": {},
   "source": [
    "***ANA500 Alzehmer's Predition***"
   ]
  },
  {
   "cell_type": "code",
   "execution_count": 2,
   "id": "33760e08-53c8-4c66-935d-4aed81cb7f2b",
   "metadata": {
    "editable": true,
    "slideshow": {
     "slide_type": ""
    },
    "tags": []
   },
   "outputs": [],
   "source": [
    "# Importlibraries\n",
    "import pandas as pd"
   ]
  },
  {
   "cell_type": "code",
   "execution_count": 3,
   "id": "795b5667-b133-4504-b238-d9d27c59ba9c",
   "metadata": {
    "editable": true,
    "slideshow": {
     "slide_type": ""
    },
    "tags": []
   },
   "outputs": [],
   "source": [
    "# Load the dataset\n",
    "file_path = 'anaconda_projects/db/alzheimers_prediction_dataset.csv'\n",
    "df = pd.read_csv(file_path)"
   ]
  },
  {
   "cell_type": "code",
   "execution_count": 4,
   "id": "b0fec203-b1b1-4ba9-b9d1-39c377be2282",
   "metadata": {},
   "outputs": [
    {
     "data": {
      "text/html": [
       "<div>\n",
       "<style scoped>\n",
       "    .dataframe tbody tr th:only-of-type {\n",
       "        vertical-align: middle;\n",
       "    }\n",
       "\n",
       "    .dataframe tbody tr th {\n",
       "        vertical-align: top;\n",
       "    }\n",
       "\n",
       "    .dataframe thead th {\n",
       "        text-align: right;\n",
       "    }\n",
       "</style>\n",
       "<table border=\"1\" class=\"dataframe\">\n",
       "  <thead>\n",
       "    <tr style=\"text-align: right;\">\n",
       "      <th></th>\n",
       "      <th>Country</th>\n",
       "      <th>Age</th>\n",
       "      <th>Gender</th>\n",
       "      <th>Education Level</th>\n",
       "      <th>BMI</th>\n",
       "      <th>Physical Activity Level</th>\n",
       "      <th>Smoking Status</th>\n",
       "      <th>Alcohol Consumption</th>\n",
       "      <th>Diabetes</th>\n",
       "      <th>Hypertension</th>\n",
       "      <th>...</th>\n",
       "      <th>Dietary Habits</th>\n",
       "      <th>Air Pollution Exposure</th>\n",
       "      <th>Employment Status</th>\n",
       "      <th>Marital Status</th>\n",
       "      <th>Genetic Risk Factor (APOE-ε4 allele)</th>\n",
       "      <th>Social Engagement Level</th>\n",
       "      <th>Income Level</th>\n",
       "      <th>Stress Levels</th>\n",
       "      <th>Urban vs Rural Living</th>\n",
       "      <th>Alzheimer's Diagnosis</th>\n",
       "    </tr>\n",
       "  </thead>\n",
       "  <tbody>\n",
       "    <tr>\n",
       "      <th>0</th>\n",
       "      <td>Spain</td>\n",
       "      <td>90</td>\n",
       "      <td>Male</td>\n",
       "      <td>1</td>\n",
       "      <td>33.0</td>\n",
       "      <td>Medium</td>\n",
       "      <td>Never</td>\n",
       "      <td>Occasionally</td>\n",
       "      <td>No</td>\n",
       "      <td>No</td>\n",
       "      <td>...</td>\n",
       "      <td>Healthy</td>\n",
       "      <td>High</td>\n",
       "      <td>Retired</td>\n",
       "      <td>Single</td>\n",
       "      <td>No</td>\n",
       "      <td>Low</td>\n",
       "      <td>Medium</td>\n",
       "      <td>High</td>\n",
       "      <td>Urban</td>\n",
       "      <td>No</td>\n",
       "    </tr>\n",
       "    <tr>\n",
       "      <th>1</th>\n",
       "      <td>Argentina</td>\n",
       "      <td>72</td>\n",
       "      <td>Male</td>\n",
       "      <td>7</td>\n",
       "      <td>29.9</td>\n",
       "      <td>Medium</td>\n",
       "      <td>Former</td>\n",
       "      <td>Never</td>\n",
       "      <td>No</td>\n",
       "      <td>No</td>\n",
       "      <td>...</td>\n",
       "      <td>Healthy</td>\n",
       "      <td>Medium</td>\n",
       "      <td>Unemployed</td>\n",
       "      <td>Widowed</td>\n",
       "      <td>No</td>\n",
       "      <td>High</td>\n",
       "      <td>Low</td>\n",
       "      <td>High</td>\n",
       "      <td>Urban</td>\n",
       "      <td>No</td>\n",
       "    </tr>\n",
       "    <tr>\n",
       "      <th>2</th>\n",
       "      <td>South Africa</td>\n",
       "      <td>86</td>\n",
       "      <td>Female</td>\n",
       "      <td>19</td>\n",
       "      <td>22.9</td>\n",
       "      <td>High</td>\n",
       "      <td>Current</td>\n",
       "      <td>Occasionally</td>\n",
       "      <td>No</td>\n",
       "      <td>Yes</td>\n",
       "      <td>...</td>\n",
       "      <td>Average</td>\n",
       "      <td>Medium</td>\n",
       "      <td>Employed</td>\n",
       "      <td>Single</td>\n",
       "      <td>No</td>\n",
       "      <td>Low</td>\n",
       "      <td>Medium</td>\n",
       "      <td>High</td>\n",
       "      <td>Rural</td>\n",
       "      <td>No</td>\n",
       "    </tr>\n",
       "    <tr>\n",
       "      <th>3</th>\n",
       "      <td>China</td>\n",
       "      <td>53</td>\n",
       "      <td>Male</td>\n",
       "      <td>17</td>\n",
       "      <td>31.2</td>\n",
       "      <td>Low</td>\n",
       "      <td>Never</td>\n",
       "      <td>Regularly</td>\n",
       "      <td>Yes</td>\n",
       "      <td>No</td>\n",
       "      <td>...</td>\n",
       "      <td>Healthy</td>\n",
       "      <td>Medium</td>\n",
       "      <td>Retired</td>\n",
       "      <td>Single</td>\n",
       "      <td>No</td>\n",
       "      <td>High</td>\n",
       "      <td>Medium</td>\n",
       "      <td>Low</td>\n",
       "      <td>Rural</td>\n",
       "      <td>No</td>\n",
       "    </tr>\n",
       "    <tr>\n",
       "      <th>4</th>\n",
       "      <td>Sweden</td>\n",
       "      <td>58</td>\n",
       "      <td>Female</td>\n",
       "      <td>3</td>\n",
       "      <td>30.0</td>\n",
       "      <td>High</td>\n",
       "      <td>Former</td>\n",
       "      <td>Never</td>\n",
       "      <td>Yes</td>\n",
       "      <td>No</td>\n",
       "      <td>...</td>\n",
       "      <td>Unhealthy</td>\n",
       "      <td>High</td>\n",
       "      <td>Employed</td>\n",
       "      <td>Married</td>\n",
       "      <td>No</td>\n",
       "      <td>Low</td>\n",
       "      <td>Medium</td>\n",
       "      <td>High</td>\n",
       "      <td>Rural</td>\n",
       "      <td>No</td>\n",
       "    </tr>\n",
       "  </tbody>\n",
       "</table>\n",
       "<p>5 rows × 25 columns</p>\n",
       "</div>"
      ],
      "text/plain": [
       "        Country  Age  Gender  Education Level   BMI Physical Activity Level  \\\n",
       "0         Spain   90    Male                1  33.0                  Medium   \n",
       "1     Argentina   72    Male                7  29.9                  Medium   \n",
       "2  South Africa   86  Female               19  22.9                    High   \n",
       "3         China   53    Male               17  31.2                     Low   \n",
       "4        Sweden   58  Female                3  30.0                    High   \n",
       "\n",
       "  Smoking Status Alcohol Consumption Diabetes Hypertension  ...  \\\n",
       "0          Never        Occasionally       No           No  ...   \n",
       "1         Former               Never       No           No  ...   \n",
       "2        Current        Occasionally       No          Yes  ...   \n",
       "3          Never           Regularly      Yes           No  ...   \n",
       "4         Former               Never      Yes           No  ...   \n",
       "\n",
       "  Dietary Habits Air Pollution Exposure  Employment Status Marital Status  \\\n",
       "0        Healthy                   High            Retired         Single   \n",
       "1        Healthy                 Medium         Unemployed        Widowed   \n",
       "2        Average                 Medium           Employed         Single   \n",
       "3        Healthy                 Medium            Retired         Single   \n",
       "4      Unhealthy                   High           Employed        Married   \n",
       "\n",
       "  Genetic Risk Factor (APOE-ε4 allele) Social Engagement Level Income Level  \\\n",
       "0                                   No                     Low       Medium   \n",
       "1                                   No                    High          Low   \n",
       "2                                   No                     Low       Medium   \n",
       "3                                   No                    High       Medium   \n",
       "4                                   No                     Low       Medium   \n",
       "\n",
       "  Stress Levels Urban vs Rural Living Alzheimer's Diagnosis  \n",
       "0          High                 Urban                    No  \n",
       "1          High                 Urban                    No  \n",
       "2          High                 Rural                    No  \n",
       "3           Low                 Rural                    No  \n",
       "4          High                 Rural                    No  \n",
       "\n",
       "[5 rows x 25 columns]"
      ]
     },
     "execution_count": 4,
     "metadata": {},
     "output_type": "execute_result"
    }
   ],
   "source": [
    "df.head()"
   ]
  },
  {
   "cell_type": "markdown",
   "id": "3c754fb9-5b17-42dd-9e45-5bb58e5d4542",
   "metadata": {},
   "source": [
    "***Clean and Prepare Dataset***"
   ]
  },
  {
   "cell_type": "code",
   "execution_count": 6,
   "id": "db0a9ed4-5f60-4592-9d14-c2bc800bb2b0",
   "metadata": {
    "editable": true,
    "slideshow": {
     "slide_type": ""
    },
    "tags": []
   },
   "outputs": [
    {
     "name": "stdout",
     "output_type": "stream",
     "text": [
      "Dataset Information:\n",
      "<class 'pandas.core.frame.DataFrame'>\n",
      "RangeIndex: 74283 entries, 0 to 74282\n",
      "Data columns (total 25 columns):\n",
      " #   Column                                Non-Null Count  Dtype  \n",
      "---  ------                                --------------  -----  \n",
      " 0   Country                               74283 non-null  object \n",
      " 1   Age                                   74283 non-null  int64  \n",
      " 2   Gender                                74283 non-null  object \n",
      " 3   Education Level                       74283 non-null  int64  \n",
      " 4   BMI                                   74283 non-null  float64\n",
      " 5   Physical Activity Level               74283 non-null  object \n",
      " 6   Smoking Status                        74283 non-null  object \n",
      " 7   Alcohol Consumption                   74283 non-null  object \n",
      " 8   Diabetes                              74283 non-null  object \n",
      " 9   Hypertension                          74283 non-null  object \n",
      " 10  Cholesterol Level                     74283 non-null  object \n",
      " 11  Family History of Alzheimer's         74283 non-null  object \n",
      " 12  Cognitive Test Score                  74283 non-null  int64  \n",
      " 13  Depression Level                      74283 non-null  object \n",
      " 14  Sleep Quality                         74283 non-null  object \n",
      " 15  Dietary Habits                        74283 non-null  object \n",
      " 16  Air Pollution Exposure                74283 non-null  object \n",
      " 17  Employment Status                     74283 non-null  object \n",
      " 18  Marital Status                        74283 non-null  object \n",
      " 19  Genetic Risk Factor (APOE-ε4 allele)  74283 non-null  object \n",
      " 20  Social Engagement Level               74283 non-null  object \n",
      " 21  Income Level                          74283 non-null  object \n",
      " 22  Stress Levels                         74283 non-null  object \n",
      " 23  Urban vs Rural Living                 74283 non-null  object \n",
      " 24  Alzheimer's Diagnosis                 74283 non-null  object \n",
      "dtypes: float64(1), int64(3), object(21)\n",
      "memory usage: 14.2+ MB\n"
     ]
    }
   ],
   "source": [
    "# Display basic information about the dataset\n",
    "print(\"Dataset Information:\")\n",
    "df.info()"
   ]
  },
  {
   "cell_type": "code",
   "execution_count": 7,
   "id": "c5b55a7a-e3bf-4b85-8efe-ce1eea810660",
   "metadata": {
    "editable": true,
    "slideshow": {
     "slide_type": ""
    },
    "tags": []
   },
   "outputs": [
    {
     "name": "stdout",
     "output_type": "stream",
     "text": [
      "\n",
      "Missing Values:\n",
      "Country                                 0\n",
      "Age                                     0\n",
      "Gender                                  0\n",
      "Education Level                         0\n",
      "BMI                                     0\n",
      "Physical Activity Level                 0\n",
      "Smoking Status                          0\n",
      "Alcohol Consumption                     0\n",
      "Diabetes                                0\n",
      "Hypertension                            0\n",
      "Cholesterol Level                       0\n",
      "Family History of Alzheimer's           0\n",
      "Cognitive Test Score                    0\n",
      "Depression Level                        0\n",
      "Sleep Quality                           0\n",
      "Dietary Habits                          0\n",
      "Air Pollution Exposure                  0\n",
      "Employment Status                       0\n",
      "Marital Status                          0\n",
      "Genetic Risk Factor (APOE-ε4 allele)    0\n",
      "Social Engagement Level                 0\n",
      "Income Level                            0\n",
      "Stress Levels                           0\n",
      "Urban vs Rural Living                   0\n",
      "Alzheimer's Diagnosis                   0\n",
      "dtype: int64\n"
     ]
    }
   ],
   "source": [
    "# Check for missing values\n",
    "print(\"\\nMissing Values:\")\n",
    "print(df.isnull().sum())"
   ]
  },
  {
   "cell_type": "code",
   "execution_count": 8,
   "id": "37087947-17c6-4a8a-873a-7497db6f90a5",
   "metadata": {
    "editable": true,
    "slideshow": {
     "slide_type": ""
    },
    "tags": []
   },
   "outputs": [
    {
     "name": "stdout",
     "output_type": "stream",
     "text": [
      "\n",
      "Number of duplicate rows: 0\n"
     ]
    }
   ],
   "source": [
    "# Check for duplicate records\n",
    "duplicate_count = df.duplicated().sum()\n",
    "print(f\"\\nNumber of duplicate rows: {duplicate_count}\")"
   ]
  },
  {
   "cell_type": "code",
   "execution_count": 9,
   "id": "bac69ac7-8161-4a18-85de-67c22c07fa19",
   "metadata": {
    "editable": true,
    "slideshow": {
     "slide_type": ""
    },
    "tags": []
   },
   "outputs": [
    {
     "name": "stdout",
     "output_type": "stream",
     "text": [
      "\n",
      "Unique Values in Categorical Columns:\n",
      "Country: ['Spain' 'Argentina' 'South Africa' 'China' 'Sweden' 'South Korea'\n",
      " 'Germany' 'UK' 'Canada' 'India' 'Italy' 'USA' 'Russia' 'Japan'\n",
      " 'Australia' 'France' 'Norway' 'Saudi Arabia' 'Mexico' 'Brazil']\n",
      "Gender: ['Male' 'Female']\n",
      "Physical Activity Level: ['Medium' 'High' 'Low']\n",
      "Smoking Status: ['Never' 'Former' 'Current']\n",
      "Alcohol Consumption: ['Occasionally' 'Never' 'Regularly']\n",
      "Diabetes: ['No' 'Yes']\n",
      "Hypertension: ['No' 'Yes']\n",
      "Cholesterol Level: ['Normal' 'High']\n",
      "Family History of Alzheimer's: ['No' 'Yes']\n",
      "Depression Level: ['Low' 'High' 'Medium']\n",
      "Sleep Quality: ['Poor' 'Good' 'Average']\n",
      "Dietary Habits: ['Healthy' 'Average' 'Unhealthy']\n",
      "Air Pollution Exposure: ['High' 'Medium' 'Low']\n",
      "Employment Status: ['Retired' 'Unemployed' 'Employed']\n",
      "Marital Status: ['Single' 'Widowed' 'Married']\n",
      "Genetic Risk Factor (APOE-ε4 allele): ['No' 'Yes']\n",
      "Social Engagement Level: ['Low' 'High' 'Medium']\n",
      "Income Level: ['Medium' 'Low' 'High']\n",
      "Stress Levels: ['High' 'Low' 'Medium']\n",
      "Urban vs Rural Living: ['Urban' 'Rural']\n",
      "Alzheimer's Diagnosis: ['No' 'Yes']\n"
     ]
    }
   ],
   "source": [
    "# Display unique values in categorical columns\n",
    "categorical_columns = df.select_dtypes(include=['object']).columns\n",
    "print(\"\\nUnique Values in Categorical Columns:\")\n",
    "for col in categorical_columns:\n",
    "    print(f\"{col}: {df[col].unique()}\")"
   ]
  },
  {
   "cell_type": "code",
   "execution_count": 10,
   "id": "c63338d0-d6e0-4a2f-bf5c-e5cd03463be7",
   "metadata": {
    "editable": true,
    "slideshow": {
     "slide_type": ""
    },
    "tags": []
   },
   "outputs": [
    {
     "name": "stderr",
     "output_type": "stream",
     "text": [
      "C:\\Users\\rdarn\\AppData\\Local\\Temp\\ipykernel_15940\\2440899378.py:9: FutureWarning: Downcasting behavior in `replace` is deprecated and will be removed in a future version. To retain the old behavior, explicitly call `result.infer_objects(copy=False)`. To opt-in to the future behavior, set `pd.set_option('future.no_silent_downcasting', True)`\n",
      "  df[binary_columns] = df[binary_columns].replace(binary_mapping).infer_objects(copy=False)\n"
     ]
    }
   ],
   "source": [
    "# Convert binary categorical columns to numerical (0 for 'No', 1 for 'Yes')\n",
    "binary_columns = ['Diabetes', 'Hypertension', 'Cholesterol Level', \n",
    "                  \"Family History of Alzheimer's\", 'Genetic Risk Factor (APOE-ε4 allele)', \n",
    "                  \"Alzheimer's Diagnosis\", 'Gender']\n",
    "\n",
    "binary_mapping = {'No': 0, 'Yes': 1, 'Normal': 0, 'High': 1, 'Male': 0, 'Female': 1}\n",
    "\n",
    "# Apply replacement and explicitly infer types\n",
    "df[binary_columns] = df[binary_columns].replace(binary_mapping).infer_objects(copy=False)"
   ]
  },
  {
   "cell_type": "code",
   "execution_count": 11,
   "id": "e7b5962a-5644-4689-bed0-1a46e1d57375",
   "metadata": {
    "editable": true,
    "slideshow": {
     "slide_type": ""
    },
    "tags": []
   },
   "outputs": [
    {
     "name": "stdout",
     "output_type": "stream",
     "text": [
      "\n",
      "Summary Statistics of Numerical Columns:\n",
      "                Age        Gender  Education Level           BMI  \\\n",
      "count  74283.000000  74283.000000     74283.000000  74283.000000   \n",
      "mean      71.964703      0.501447         9.487514     26.780639   \n",
      "std       12.980748      0.500001         5.757020      4.764679   \n",
      "min       50.000000      0.000000         0.000000     18.500000   \n",
      "25%       61.000000      0.000000         4.000000     22.700000   \n",
      "50%       72.000000      1.000000         9.000000     26.800000   \n",
      "75%       83.000000      1.000000        14.000000     30.900000   \n",
      "max       94.000000      1.000000        19.000000     35.000000   \n",
      "\n",
      "           Diabetes  Hypertension  Cholesterol Level  \\\n",
      "count  74283.000000  74283.000000       74283.000000   \n",
      "mean       0.198646      0.298171           0.300338   \n",
      "std        0.398983      0.457458           0.458408   \n",
      "min        0.000000      0.000000           0.000000   \n",
      "25%        0.000000      0.000000           0.000000   \n",
      "50%        0.000000      0.000000           0.000000   \n",
      "75%        0.000000      1.000000           1.000000   \n",
      "max        1.000000      1.000000           1.000000   \n",
      "\n",
      "       Family History of Alzheimer's  Cognitive Test Score  \\\n",
      "count                   74283.000000          74283.000000   \n",
      "mean                        0.299921             64.654241   \n",
      "std                         0.458226             20.153247   \n",
      "min                         0.000000             30.000000   \n",
      "25%                         0.000000             47.000000   \n",
      "50%                         0.000000             65.000000   \n",
      "75%                         1.000000             82.000000   \n",
      "max                         1.000000             99.000000   \n",
      "\n",
      "       Genetic Risk Factor (APOE-ε4 allele)  Alzheimer's Diagnosis  \n",
      "count                          74283.000000           74283.000000  \n",
      "mean                               0.198188               0.413459  \n",
      "std                                0.398637               0.492457  \n",
      "min                                0.000000               0.000000  \n",
      "25%                                0.000000               0.000000  \n",
      "50%                                0.000000               0.000000  \n",
      "75%                                0.000000               1.000000  \n",
      "max                                1.000000               1.000000  \n"
     ]
    }
   ],
   "source": [
    "# Display summary statistics of numerical columns\n",
    "print(\"\\nSummary Statistics of Numerical Columns:\")\n",
    "print(df.describe())"
   ]
  },
  {
   "cell_type": "code",
   "execution_count": 12,
   "id": "61f195bf-326f-4966-bd31-21fd843446e1",
   "metadata": {},
   "outputs": [
    {
     "name": "stdout",
     "output_type": "stream",
     "text": [
      "\n",
      "Cleaned dataset saved as 'cleaned_alzheimers_dataset.csv'\n"
     ]
    }
   ],
   "source": [
    "# Save cleaned dataset (optional)\n",
    "df.to_csv(\"cleaned_alzheimers_dataset.csv\", index=False)\n",
    "print(\"\\nCleaned dataset saved as 'cleaned_alzheimers_dataset.csv'\")"
   ]
  },
  {
   "cell_type": "markdown",
   "id": "63e1389c-3734-437d-8b2a-019b315d74cb",
   "metadata": {},
   "source": [
    "***Visual Analysis***"
   ]
  },
  {
   "cell_type": "code",
   "execution_count": 14,
   "id": "31bd9892-a2cf-4dbe-a755-898c4574e75a",
   "metadata": {},
   "outputs": [],
   "source": [
    "# Import required libraries\n",
    "import pandas as pd\n",
    "import matplotlib.pyplot as plt\n",
    "import seaborn as sns"
   ]
  },
  {
   "cell_type": "code",
   "execution_count": 15,
   "id": "27bcafe8-6c03-45f0-acac-c66f0d2f0ecf",
   "metadata": {},
   "outputs": [],
   "source": [
    "# Load the cleaned dataset\n",
    "file_path = \"cleaned_alzheimers_dataset.csv\"  # Ensure you have the cleaned dataset\n",
    "df = pd.read_csv(file_path)"
   ]
  },
  {
   "cell_type": "code",
   "execution_count": 16,
   "id": "9159b91b-eb81-4c28-9112-e5709fab1e66",
   "metadata": {},
   "outputs": [],
   "source": [
    "# Set style for plots\n",
    "sns.set(style=\"whitegrid\")"
   ]
  },
  {
   "cell_type": "code",
   "execution_count": 17,
   "id": "912cb059-7e7c-4855-8436-1803a9501efc",
   "metadata": {},
   "outputs": [
    {
     "data": {
      "image/png": "[encoded data removed]",
      "text/plain": [
       "<Figure size 600x400 with 1 Axes>"
      ]
     },
     "metadata": {},
     "output_type": "display_data"
    }
   ],
   "source": [
    "# 1. Bar chart - Alzheimer's Diagnosis distribution\n",
    "\n",
    "import matplotlib.pyplot as plt\n",
    "import seaborn as sns\n",
    "\n",
    "plt.figure(figsize=(6, 4))\n",
    "sns.countplot(x=\"Alzheimer's Diagnosis\", data=df, hue=\"Alzheimer's Diagnosis\", palette=\"viridis\", legend=False)\n",
    "plt.title(\"Distribution of Alzheimer's Diagnosis\")\n",
    "plt.xlabel(\"Alzheimer's Diagnosis (0=No, 1=Yes)\")\n",
    "plt.ylabel(\"Count\")\n",
    "plt.show()"
   ]
  },
  {
   "cell_type": "code",
   "execution_count": 18,
   "id": "adbd0887-3885-471f-8ced-01ddfbf3e842",
   "metadata": {
    "scrolled": true
   },
   "outputs": [
    {
     "data": {
      "image/png": "[encoded data removed]",
      "text/plain": [
       "<Figure size 800x500 with 1 Axes>"
      ]
     },
     "metadata": {},
     "output_type": "display_data"
    }
   ],
   "source": [
    "# 2. Histogram - Age Distribution\n",
    "plt.figure(figsize=(8, 5))\n",
    "sns.histplot(df['Age'], bins=30, kde=True, color=\"blue\")\n",
    "plt.title(\"Age Distribution of Participants\")\n",
    "plt.xlabel(\"Age\")\n",
    "plt.ylabel(\"Frequency\")\n",
    "plt.show()\n"
   ]
  },
  {
   "cell_type": "code",
   "execution_count": 19,
   "id": "9d482420-44e0-42fc-8faf-49f17713afcb",
   "metadata": {},
   "outputs": [
    {
     "data": {
      "image/png": "[encoded data removed]",
      "text/plain": [
       "<Figure size 1500x500 with 3 Axes>"
      ]
     },
     "metadata": {},
     "output_type": "display_data"
    }
   ],
   "source": [
    "# 3. Boxplots for Outlier Detection in BMI, Cognitive Test Score, and Age\n",
    "fig, axes = plt.subplots(1, 3, figsize=(15, 5))\n",
    "\n",
    "sns.boxplot(y=df[\"BMI\"], ax=axes[0], color=\"lightblue\")\n",
    "axes[0].set_title(\"BMI Distribution\")\n",
    "\n",
    "sns.boxplot(y=df[\"Cognitive Test Score\"], ax=axes[1], color=\"lightgreen\")\n",
    "axes[1].set_title(\"Cognitive Test Score Distribution\")\n",
    "\n",
    "sns.boxplot(y=df[\"Age\"], ax=axes[2], color=\"lightcoral\")\n",
    "axes[2].set_title(\"Age Distribution\")\n",
    "\n",
    "plt.tight_layout()\n",
    "plt.show()"
   ]
  },
  {
   "cell_type": "code",
   "execution_count": 20,
   "id": "a70fd864-26bf-41e5-bdcd-6494909cc97c",
   "metadata": {},
   "outputs": [
    {
     "data": {
      "image/png": "[encoded data removed]",
      "text/plain": [
       "<Figure size 1200x500 with 2 Axes>"
      ]
     },
     "metadata": {},
     "output_type": "display_data"
    }
   ],
   "source": [
    "# 4. Bar charts for categorical variables - Physical Activity and Smoking Status\n",
    "fig, axes = plt.subplots(1, 2, figsize=(12, 5))\n",
    "\n",
    "# Fix for Physical Activity Level countplot\n",
    "sns.countplot(x=\"Physical Activity Level\", hue=\"Physical Activity Level\", data=df, ax=axes[0], palette=\"magma\", legend=False)\n",
    "axes[0].set_title(\"Physical Activity Level Distribution\")\n",
    "\n",
    "# Fix for Smoking Status countplot\n",
    "sns.countplot(x=\"Smoking Status\", hue=\"Smoking Status\", data=df, ax=axes[1], palette=\"coolwarm\", legend=False)\n",
    "axes[1].set_title(\"Smoking Status Distribution\")\n",
    "\n",
    "plt.tight_layout()\n",
    "plt.show()"
   ]
  },
  {
   "cell_type": "markdown",
   "id": "3a873328-f051-4707-9193-355f188b9880",
   "metadata": {},
   "source": [
    "# Machine Learning"
   ]
  },
  {
   "cell_type": "markdown",
   "id": "e5262482-c48c-4a58-9e37-dd624de4b237",
   "metadata": {},
   "source": [
    "***1.Load and Clean the Data.***"
   ]
  },
  {
   "cell_type": "code",
   "execution_count": 23,
   "id": "f39c0a64-8702-49b8-a6c5-b7db6231627a",
   "metadata": {},
   "outputs": [],
   "source": [
    "#Import Libraries\n",
    "import pandas as pd\n",
    "import numpy as np\n",
    "from sklearn.model_selection import train_test_split\n",
    "from sklearn.preprocessing import StandardScaler, LabelEncoder\n",
    "from sklearn.metrics import confusion_matrix, classification_report\n",
    "import seaborn as sns\n",
    "import matplotlib.pyplot as plt\n"
   ]
  },
  {
   "cell_type": "code",
   "execution_count": 24,
   "id": "935437f8-e8cc-4582-86c1-a90f7d2bd106",
   "metadata": {},
   "outputs": [
    {
     "data": {
      "text/html": [
       "<div>\n",
       "<style scoped>\n",
       "    .dataframe tbody tr th:only-of-type {\n",
       "        vertical-align: middle;\n",
       "    }\n",
       "\n",
       "    .dataframe tbody tr th {\n",
       "        vertical-align: top;\n",
       "    }\n",
       "\n",
       "    .dataframe thead th {\n",
       "        text-align: right;\n",
       "    }\n",
       "</style>\n",
       "<table border=\"1\" class=\"dataframe\">\n",
       "  <thead>\n",
       "    <tr style=\"text-align: right;\">\n",
       "      <th></th>\n",
       "      <th>Country</th>\n",
       "      <th>Age</th>\n",
       "      <th>Gender</th>\n",
       "      <th>Education Level</th>\n",
       "      <th>BMI</th>\n",
       "      <th>Physical Activity Level</th>\n",
       "      <th>Smoking Status</th>\n",
       "      <th>Alcohol Consumption</th>\n",
       "      <th>Diabetes</th>\n",
       "      <th>Hypertension</th>\n",
       "      <th>...</th>\n",
       "      <th>Dietary Habits</th>\n",
       "      <th>Air Pollution Exposure</th>\n",
       "      <th>Employment Status</th>\n",
       "      <th>Marital Status</th>\n",
       "      <th>Genetic Risk Factor (APOE-ε4 allele)</th>\n",
       "      <th>Social Engagement Level</th>\n",
       "      <th>Income Level</th>\n",
       "      <th>Stress Levels</th>\n",
       "      <th>Urban vs Rural Living</th>\n",
       "      <th>Alzheimer's Diagnosis</th>\n",
       "    </tr>\n",
       "  </thead>\n",
       "  <tbody>\n",
       "    <tr>\n",
       "      <th>0</th>\n",
       "      <td>Spain</td>\n",
       "      <td>90</td>\n",
       "      <td>Male</td>\n",
       "      <td>1</td>\n",
       "      <td>33.0</td>\n",
       "      <td>Medium</td>\n",
       "      <td>Never</td>\n",
       "      <td>Occasionally</td>\n",
       "      <td>No</td>\n",
       "      <td>No</td>\n",
       "      <td>...</td>\n",
       "      <td>Healthy</td>\n",
       "      <td>High</td>\n",
       "      <td>Retired</td>\n",
       "      <td>Single</td>\n",
       "      <td>No</td>\n",
       "      <td>Low</td>\n",
       "      <td>Medium</td>\n",
       "      <td>High</td>\n",
       "      <td>Urban</td>\n",
       "      <td>No</td>\n",
       "    </tr>\n",
       "    <tr>\n",
       "      <th>1</th>\n",
       "      <td>Argentina</td>\n",
       "      <td>72</td>\n",
       "      <td>Male</td>\n",
       "      <td>7</td>\n",
       "      <td>29.9</td>\n",
       "      <td>Medium</td>\n",
       "      <td>Former</td>\n",
       "      <td>Never</td>\n",
       "      <td>No</td>\n",
       "      <td>No</td>\n",
       "      <td>...</td>\n",
       "      <td>Healthy</td>\n",
       "      <td>Medium</td>\n",
       "      <td>Unemployed</td>\n",
       "      <td>Widowed</td>\n",
       "      <td>No</td>\n",
       "      <td>High</td>\n",
       "      <td>Low</td>\n",
       "      <td>High</td>\n",
       "      <td>Urban</td>\n",
       "      <td>No</td>\n",
       "    </tr>\n",
       "    <tr>\n",
       "      <th>2</th>\n",
       "      <td>South Africa</td>\n",
       "      <td>86</td>\n",
       "      <td>Female</td>\n",
       "      <td>19</td>\n",
       "      <td>22.9</td>\n",
       "      <td>High</td>\n",
       "      <td>Current</td>\n",
       "      <td>Occasionally</td>\n",
       "      <td>No</td>\n",
       "      <td>Yes</td>\n",
       "      <td>...</td>\n",
       "      <td>Average</td>\n",
       "      <td>Medium</td>\n",
       "      <td>Employed</td>\n",
       "      <td>Single</td>\n",
       "      <td>No</td>\n",
       "      <td>Low</td>\n",
       "      <td>Medium</td>\n",
       "      <td>High</td>\n",
       "      <td>Rural</td>\n",
       "      <td>No</td>\n",
       "    </tr>\n",
       "    <tr>\n",
       "      <th>3</th>\n",
       "      <td>China</td>\n",
       "      <td>53</td>\n",
       "      <td>Male</td>\n",
       "      <td>17</td>\n",
       "      <td>31.2</td>\n",
       "      <td>Low</td>\n",
       "      <td>Never</td>\n",
       "      <td>Regularly</td>\n",
       "      <td>Yes</td>\n",
       "      <td>No</td>\n",
       "      <td>...</td>\n",
       "      <td>Healthy</td>\n",
       "      <td>Medium</td>\n",
       "      <td>Retired</td>\n",
       "      <td>Single</td>\n",
       "      <td>No</td>\n",
       "      <td>High</td>\n",
       "      <td>Medium</td>\n",
       "      <td>Low</td>\n",
       "      <td>Rural</td>\n",
       "      <td>No</td>\n",
       "    </tr>\n",
       "    <tr>\n",
       "      <th>4</th>\n",
       "      <td>Sweden</td>\n",
       "      <td>58</td>\n",
       "      <td>Female</td>\n",
       "      <td>3</td>\n",
       "      <td>30.0</td>\n",
       "      <td>High</td>\n",
       "      <td>Former</td>\n",
       "      <td>Never</td>\n",
       "      <td>Yes</td>\n",
       "      <td>No</td>\n",
       "      <td>...</td>\n",
       "      <td>Unhealthy</td>\n",
       "      <td>High</td>\n",
       "      <td>Employed</td>\n",
       "      <td>Married</td>\n",
       "      <td>No</td>\n",
       "      <td>Low</td>\n",
       "      <td>Medium</td>\n",
       "      <td>High</td>\n",
       "      <td>Rural</td>\n",
       "      <td>No</td>\n",
       "    </tr>\n",
       "  </tbody>\n",
       "</table>\n",
       "<p>5 rows × 25 columns</p>\n",
       "</div>"
      ],
      "text/plain": [
       "        Country  Age  Gender  Education Level   BMI Physical Activity Level  \\\n",
       "0         Spain   90    Male                1  33.0                  Medium   \n",
       "1     Argentina   72    Male                7  29.9                  Medium   \n",
       "2  South Africa   86  Female               19  22.9                    High   \n",
       "3         China   53    Male               17  31.2                     Low   \n",
       "4        Sweden   58  Female                3  30.0                    High   \n",
       "\n",
       "  Smoking Status Alcohol Consumption Diabetes Hypertension  ...  \\\n",
       "0          Never        Occasionally       No           No  ...   \n",
       "1         Former               Never       No           No  ...   \n",
       "2        Current        Occasionally       No          Yes  ...   \n",
       "3          Never           Regularly      Yes           No  ...   \n",
       "4         Former               Never      Yes           No  ...   \n",
       "\n",
       "  Dietary Habits Air Pollution Exposure  Employment Status Marital Status  \\\n",
       "0        Healthy                   High            Retired         Single   \n",
       "1        Healthy                 Medium         Unemployed        Widowed   \n",
       "2        Average                 Medium           Employed         Single   \n",
       "3        Healthy                 Medium            Retired         Single   \n",
       "4      Unhealthy                   High           Employed        Married   \n",
       "\n",
       "  Genetic Risk Factor (APOE-ε4 allele) Social Engagement Level Income Level  \\\n",
       "0                                   No                     Low       Medium   \n",
       "1                                   No                    High          Low   \n",
       "2                                   No                     Low       Medium   \n",
       "3                                   No                    High       Medium   \n",
       "4                                   No                     Low       Medium   \n",
       "\n",
       "  Stress Levels Urban vs Rural Living Alzheimer's Diagnosis  \n",
       "0          High                 Urban                    No  \n",
       "1          High                 Urban                    No  \n",
       "2          High                 Rural                    No  \n",
       "3           Low                 Rural                    No  \n",
       "4          High                 Rural                    No  \n",
       "\n",
       "[5 rows x 25 columns]"
      ]
     },
     "execution_count": 24,
     "metadata": {},
     "output_type": "execute_result"
    }
   ],
   "source": [
    "# Load the dataset\n",
    "file_path = \"anaconda_projects/db/alzheimers_prediction_dataset.csv\" \n",
    "df = pd.read_csv(file_path)\n",
    "\n",
    "# Display the first few rows to understand the data\n",
    "df.head()"
   ]
  },
  {
   "cell_type": "code",
   "execution_count": 25,
   "id": "0d8a1df9-453f-4d9d-ba3e-ccbad720136f",
   "metadata": {},
   "outputs": [],
   "source": [
    "# Standardize column names (replace spaces with underscores & remove special characters)\n",
    "df.columns = df.columns.str.replace(\" \", \"_\").str.replace(\"'\", \"\")"
   ]
  },
  {
   "cell_type": "code",
   "execution_count": 26,
   "id": "2e82cb05-ec28-4dcb-bc8f-4c7712ae8ce7",
   "metadata": {},
   "outputs": [],
   "source": [
    "# Check for missing values and drop or fill accordingly\n",
    "df = df.dropna()  # Drop rows with missing values (Modify strategy if necessary)"
   ]
  },
  {
   "cell_type": "code",
   "execution_count": 27,
   "id": "a3fef8c2-99aa-4cb4-a5fa-d95dd2c8efd0",
   "metadata": {},
   "outputs": [
    {
     "name": "stdout",
     "output_type": "stream",
     "text": [
      "Categorical Columns: Index(['Country', 'Gender', 'Physical_Activity_Level', 'Smoking_Status',\n",
      "       'Alcohol_Consumption', 'Diabetes', 'Hypertension', 'Cholesterol_Level',\n",
      "       'Family_History_of_Alzheimers', 'Depression_Level', 'Sleep_Quality',\n",
      "       'Dietary_Habits', 'Air_Pollution_Exposure', 'Employment_Status',\n",
      "       'Marital_Status', 'Genetic_Risk_Factor_(APOE-ε4_allele)',\n",
      "       'Social_Engagement_Level', 'Income_Level', 'Stress_Levels',\n",
      "       'Urban_vs_Rural_Living', 'Alzheimers_Diagnosis'],\n",
      "      dtype='object')\n"
     ]
    }
   ],
   "source": [
    "# Identify categorical columns\n",
    "categorical_cols = df.select_dtypes(include=['object']).columns\n",
    "print(\"Categorical Columns:\", categorical_cols)"
   ]
  },
  {
   "cell_type": "code",
   "execution_count": 28,
   "id": "1ec27bba-acdf-4da7-bd55-5cdc6bf16afd",
   "metadata": {},
   "outputs": [],
   "source": [
    "# Encode categorical variables using Label Encoding\n",
    "label_encoders = {}\n",
    "for col in categorical_cols:\n",
    "    le = LabelEncoder()\n",
    "    df[col] = le.fit_transform(df[col])\n",
    "    label_encoders[col] = le  # Store encoders in case needed for decoding"
   ]
  },
  {
   "cell_type": "code",
   "execution_count": 29,
   "id": "17877bbc-2e63-41a3-bfa0-d28e1fb36910",
   "metadata": {},
   "outputs": [
    {
     "data": {
      "text/html": [
       "<div>\n",
       "<style scoped>\n",
       "    .dataframe tbody tr th:only-of-type {\n",
       "        vertical-align: middle;\n",
       "    }\n",
       "\n",
       "    .dataframe tbody tr th {\n",
       "        vertical-align: top;\n",
       "    }\n",
       "\n",
       "    .dataframe thead th {\n",
       "        text-align: right;\n",
       "    }\n",
       "</style>\n",
       "<table border=\"1\" class=\"dataframe\">\n",
       "  <thead>\n",
       "    <tr style=\"text-align: right;\">\n",
       "      <th></th>\n",
       "      <th>Country</th>\n",
       "      <th>Age</th>\n",
       "      <th>Gender</th>\n",
       "      <th>Education_Level</th>\n",
       "      <th>BMI</th>\n",
       "      <th>Physical_Activity_Level</th>\n",
       "      <th>Smoking_Status</th>\n",
       "      <th>Alcohol_Consumption</th>\n",
       "      <th>Diabetes</th>\n",
       "      <th>Hypertension</th>\n",
       "      <th>...</th>\n",
       "      <th>Dietary_Habits</th>\n",
       "      <th>Air_Pollution_Exposure</th>\n",
       "      <th>Employment_Status</th>\n",
       "      <th>Marital_Status</th>\n",
       "      <th>Genetic_Risk_Factor_(APOE-ε4_allele)</th>\n",
       "      <th>Social_Engagement_Level</th>\n",
       "      <th>Income_Level</th>\n",
       "      <th>Stress_Levels</th>\n",
       "      <th>Urban_vs_Rural_Living</th>\n",
       "      <th>Alzheimers_Diagnosis</th>\n",
       "    </tr>\n",
       "  </thead>\n",
       "  <tbody>\n",
       "    <tr>\n",
       "      <th>0</th>\n",
       "      <td>16</td>\n",
       "      <td>90</td>\n",
       "      <td>1</td>\n",
       "      <td>1</td>\n",
       "      <td>33.0</td>\n",
       "      <td>2</td>\n",
       "      <td>2</td>\n",
       "      <td>1</td>\n",
       "      <td>0</td>\n",
       "      <td>0</td>\n",
       "      <td>...</td>\n",
       "      <td>1</td>\n",
       "      <td>0</td>\n",
       "      <td>1</td>\n",
       "      <td>1</td>\n",
       "      <td>0</td>\n",
       "      <td>1</td>\n",
       "      <td>2</td>\n",
       "      <td>0</td>\n",
       "      <td>1</td>\n",
       "      <td>0</td>\n",
       "    </tr>\n",
       "    <tr>\n",
       "      <th>1</th>\n",
       "      <td>0</td>\n",
       "      <td>72</td>\n",
       "      <td>1</td>\n",
       "      <td>7</td>\n",
       "      <td>29.9</td>\n",
       "      <td>2</td>\n",
       "      <td>1</td>\n",
       "      <td>0</td>\n",
       "      <td>0</td>\n",
       "      <td>0</td>\n",
       "      <td>...</td>\n",
       "      <td>1</td>\n",
       "      <td>2</td>\n",
       "      <td>2</td>\n",
       "      <td>2</td>\n",
       "      <td>0</td>\n",
       "      <td>0</td>\n",
       "      <td>1</td>\n",
       "      <td>0</td>\n",
       "      <td>1</td>\n",
       "      <td>0</td>\n",
       "    </tr>\n",
       "    <tr>\n",
       "      <th>2</th>\n",
       "      <td>14</td>\n",
       "      <td>86</td>\n",
       "      <td>0</td>\n",
       "      <td>19</td>\n",
       "      <td>22.9</td>\n",
       "      <td>0</td>\n",
       "      <td>0</td>\n",
       "      <td>1</td>\n",
       "      <td>0</td>\n",
       "      <td>1</td>\n",
       "      <td>...</td>\n",
       "      <td>0</td>\n",
       "      <td>2</td>\n",
       "      <td>0</td>\n",
       "      <td>1</td>\n",
       "      <td>0</td>\n",
       "      <td>1</td>\n",
       "      <td>2</td>\n",
       "      <td>0</td>\n",
       "      <td>0</td>\n",
       "      <td>0</td>\n",
       "    </tr>\n",
       "    <tr>\n",
       "      <th>3</th>\n",
       "      <td>4</td>\n",
       "      <td>53</td>\n",
       "      <td>1</td>\n",
       "      <td>17</td>\n",
       "      <td>31.2</td>\n",
       "      <td>1</td>\n",
       "      <td>2</td>\n",
       "      <td>2</td>\n",
       "      <td>1</td>\n",
       "      <td>0</td>\n",
       "      <td>...</td>\n",
       "      <td>1</td>\n",
       "      <td>2</td>\n",
       "      <td>1</td>\n",
       "      <td>1</td>\n",
       "      <td>0</td>\n",
       "      <td>0</td>\n",
       "      <td>2</td>\n",
       "      <td>1</td>\n",
       "      <td>0</td>\n",
       "      <td>0</td>\n",
       "    </tr>\n",
       "    <tr>\n",
       "      <th>4</th>\n",
       "      <td>17</td>\n",
       "      <td>58</td>\n",
       "      <td>0</td>\n",
       "      <td>3</td>\n",
       "      <td>30.0</td>\n",
       "      <td>0</td>\n",
       "      <td>1</td>\n",
       "      <td>0</td>\n",
       "      <td>1</td>\n",
       "      <td>0</td>\n",
       "      <td>...</td>\n",
       "      <td>2</td>\n",
       "      <td>0</td>\n",
       "      <td>0</td>\n",
       "      <td>0</td>\n",
       "      <td>0</td>\n",
       "      <td>1</td>\n",
       "      <td>2</td>\n",
       "      <td>0</td>\n",
       "      <td>0</td>\n",
       "      <td>0</td>\n",
       "    </tr>\n",
       "  </tbody>\n",
       "</table>\n",
       "<p>5 rows × 25 columns</p>\n",
       "</div>"
      ],
      "text/plain": [
       "   Country  Age  Gender  Education_Level   BMI  Physical_Activity_Level  \\\n",
       "0       16   90       1                1  33.0                        2   \n",
       "1        0   72       1                7  29.9                        2   \n",
       "2       14   86       0               19  22.9                        0   \n",
       "3        4   53       1               17  31.2                        1   \n",
       "4       17   58       0                3  30.0                        0   \n",
       "\n",
       "   Smoking_Status  Alcohol_Consumption  Diabetes  Hypertension  ...  \\\n",
       "0               2                    1         0             0  ...   \n",
       "1               1                    0         0             0  ...   \n",
       "2               0                    1         0             1  ...   \n",
       "3               2                    2         1             0  ...   \n",
       "4               1                    0         1             0  ...   \n",
       "\n",
       "   Dietary_Habits  Air_Pollution_Exposure  Employment_Status  Marital_Status  \\\n",
       "0               1                       0                  1               1   \n",
       "1               1                       2                  2               2   \n",
       "2               0                       2                  0               1   \n",
       "3               1                       2                  1               1   \n",
       "4               2                       0                  0               0   \n",
       "\n",
       "   Genetic_Risk_Factor_(APOE-ε4_allele)  Social_Engagement_Level  \\\n",
       "0                                     0                        1   \n",
       "1                                     0                        0   \n",
       "2                                     0                        1   \n",
       "3                                     0                        0   \n",
       "4                                     0                        1   \n",
       "\n",
       "   Income_Level  Stress_Levels  Urban_vs_Rural_Living  Alzheimers_Diagnosis  \n",
       "0             2              0                      1                     0  \n",
       "1             1              0                      1                     0  \n",
       "2             2              0                      0                     0  \n",
       "3             2              1                      0                     0  \n",
       "4             2              0                      0                     0  \n",
       "\n",
       "[5 rows x 25 columns]"
      ]
     },
     "execution_count": 29,
     "metadata": {},
     "output_type": "execute_result"
    }
   ],
   "source": [
    "# Display first few rows after encoding\n",
    "df.head()"
   ]
  },
  {
   "cell_type": "markdown",
   "id": "d3fe5672-195d-420d-80c5-c786dc56b609",
   "metadata": {},
   "source": [
    "***2. Split Data and Apply Scaling***"
   ]
  },
  {
   "cell_type": "code",
   "execution_count": 31,
   "id": "8ae0666e-1a72-4bce-9958-b6aa973b0017",
   "metadata": {},
   "outputs": [],
   "source": [
    "# Define the target variable\n",
    "target_column = \"Alzheimers_Diagnosis\"  # Ensure this matches the column name in df"
   ]
  },
  {
   "cell_type": "code",
   "execution_count": 32,
   "id": "620d5d43-6cdc-4fee-9422-03083959ccda",
   "metadata": {},
   "outputs": [],
   "source": [
    "# Separate features (X) and target (y)\n",
    "X = df.drop(columns=[target_column])\n",
    "y = df[target_column]\n"
   ]
  },
  {
   "cell_type": "code",
   "execution_count": 33,
   "id": "7d4b4ef2-b1af-4074-8c54-a9a93307acda",
   "metadata": {},
   "outputs": [],
   "source": [
    "# Split data into training (80%) and testing (20%) sets\n",
    "X_train, X_test, y_train, y_test = train_test_split(X, y, test_size=0.2, random_state=42, stratify=y)"
   ]
  },
  {
   "cell_type": "code",
   "execution_count": 34,
   "id": "4b0ce960-9efb-4587-a56e-a27ab2c54183",
   "metadata": {},
   "outputs": [],
   "source": [
    "# Standardize numerical features\n",
    "scaler = StandardScaler()\n",
    "X_train = scaler.fit_transform(X_train)\n",
    "X_test = scaler.transform(X_test)"
   ]
  },
  {
   "cell_type": "code",
   "execution_count": 35,
   "id": "fdf40fe8-e7f3-45b2-b091-b8179b35c44e",
   "metadata": {},
   "outputs": [
    {
     "name": "stdout",
     "output_type": "stream",
     "text": [
      "Training Data Shape: (59426, 24) Target: (59426,)\n",
      "Testing Data Shape: (14857, 24) Target: (14857,)\n"
     ]
    }
   ],
   "source": [
    "# Check shapes to confirm successful processing\n",
    "print(\"Training Data Shape:\", X_train.shape, \"Target:\", y_train.shape)\n",
    "print(\"Testing Data Shape:\", X_test.shape, \"Target:\", y_test.shape)"
   ]
  },
  {
   "cell_type": "markdown",
   "id": "3aa6f98f-1c09-418e-8043-f0d4b8a9ee8c",
   "metadata": {},
   "source": [
    "***3. Logistic Regression Model***"
   ]
  },
  {
   "cell_type": "code",
   "execution_count": 37,
   "id": "d1323716-71dd-437a-89f1-01b77c645154",
   "metadata": {},
   "outputs": [
    {
     "name": "stdout",
     "output_type": "stream",
     "text": [
      "Logistic Regression Classification Report:\n",
      "               precision    recall  f1-score   support\n",
      "\n",
      "           0       0.74      0.79      0.76      8714\n",
      "           1       0.67      0.60      0.63      6143\n",
      "\n",
      "    accuracy                           0.71     14857\n",
      "   macro avg       0.70      0.70      0.70     14857\n",
      "weighted avg       0.71      0.71      0.71     14857\n",
      "\n"
     ]
    },
    {
     "data": {
      "image/png": "[encoded data removed]",
      "text/plain": [
       "<Figure size 600x400 with 2 Axes>"
      ]
     },
     "metadata": {},
     "output_type": "display_data"
    }
   ],
   "source": [
    "# Logistic Regression Model\n",
    "from sklearn.linear_model import LogisticRegression\n",
    "\n",
    "def plot_confusion_matrix(y_true, y_pred, model_name):\n",
    "    \"\"\"Generates a confusion matrix heatmap for model evaluation.\"\"\"\n",
    "    cm = confusion_matrix(y_true, y_pred)\n",
    "    plt.figure(figsize=(6,4))\n",
    "    sns.heatmap(cm, annot=True, fmt='d', cmap='Blues', xticklabels=['No Alzheimer’s', 'Alzheimer’s'], yticklabels=['No Alzheimer’s', 'Alzheimer’s'])\n",
    "    plt.xlabel('Predicted')\n",
    "    plt.ylabel('Actual')\n",
    "    plt.title(f'Confusion Matrix - {model_name}')\n",
    "    plt.show()\n",
    "    \n",
    "# Train Logistic Regression model\n",
    "log_model = LogisticRegression(random_state=42)\n",
    "log_model.fit(X_train, y_train)\n",
    "\n",
    "# Predictions\n",
    "y_pred_log = log_model.predict(X_test)\n",
    "\n",
    "# Print classification report\n",
    "print(\"Logistic Regression Classification Report:\\n\", classification_report(y_test, y_pred_log))\n",
    "\n",
    "# Plot confusion matrix\n",
    "plot_confusion_matrix(y_test, y_pred_log, \"Logistic Regression\")"
   ]
  },
  {
   "cell_type": "markdown",
   "id": "a03a1aff-816f-4520-aace-9df1293bd3c2",
   "metadata": {},
   "source": [
    "***4. Support Vector Machine (SVM)***"
   ]
  },
  {
   "cell_type": "code",
   "execution_count": 69,
   "id": "895af8b7-7856-47a5-a6aa-1e154f1f72f7",
   "metadata": {},
   "outputs": [
    {
     "name": "stdout",
     "output_type": "stream",
     "text": [
      "SVM Classification Report:\n",
      "               precision    recall  f1-score   support\n",
      "\n",
      "           0       0.75      0.77      0.76      8714\n",
      "           1       0.66      0.64      0.65      6143\n",
      "\n",
      "    accuracy                           0.72     14857\n",
      "   macro avg       0.71      0.70      0.71     14857\n",
      "weighted avg       0.71      0.72      0.72     14857\n",
      "\n"
     ]
    },
    {
     "data": {
      "image/png": "[encoded data removed]",
      "text/plain": [
       "<Figure size 600x400 with 2 Axes>"
      ]
     },
     "metadata": {},
     "output_type": "display_data"
    }
   ],
   "source": [
    "#  Support Vector Machine (SVM)\n",
    "from sklearn.svm import SVC\n",
    "\n",
    "# Training on the full data set was taking too long so reduced the training subset\n",
    "# Train SVM on a smaller subset (e.g., 20% of training data)\n",
    "X_small, _, y_small, _ = train_test_split(X_train, y_train, test_size=0.8, random_state=42, stratify=y_train)\n",
    "\n",
    "# Train SVM on the reduced set\n",
    "svm_model = SVC(kernel='linear', random_state=42)\n",
    "svm_model.fit(X_small, y_small)\n",
    "\n",
    "# Predictions\n",
    "y_pred_svm = svm_model.predict(X_test)\n",
    "\n",
    "# Print classification report\n",
    "print(\"SVM Classification Report:\\n\", classification_report(y_test, y_pred_svm))\n",
    "\n",
    "# Plot confusion matrix\n",
    "plot_confusion_matrix(y_test, y_pred_svm, \"SVM\")"
   ]
  },
  {
   "cell_type": "markdown",
   "id": "c34b4436-4c50-464c-b978-53a59b7f6e60",
   "metadata": {},
   "source": [
    "***5. Random Forest Classifier***"
   ]
  },
  {
   "cell_type": "code",
   "execution_count": 74,
   "id": "b14715eb-0e33-47df-983e-3bf30dcd9970",
   "metadata": {},
   "outputs": [
    {
     "name": "stdout",
     "output_type": "stream",
     "text": [
      "Random Forest Classification Report:\n",
      "               precision    recall  f1-score   support\n",
      "\n",
      "           0       0.76      0.77      0.76      8714\n",
      "           1       0.67      0.65      0.66      6143\n",
      "\n",
      "    accuracy                           0.72     14857\n",
      "   macro avg       0.71      0.71      0.71     14857\n",
      "weighted avg       0.72      0.72      0.72     14857\n",
      "\n"
     ]
    },
    {
     "data": {
      "image/png": "[encoded data removed]",
      "text/plain": [
       "<Figure size 600x400 with 2 Axes>"
      ]
     },
     "metadata": {},
     "output_type": "display_data"
    }
   ],
   "source": [
    "# Random Forest Classifier\n",
    "from sklearn.ensemble import RandomForestClassifier\n",
    "\n",
    "# Train Random Forest model\n",
    "rf_model = RandomForestClassifier(n_estimators=100, random_state=42)\n",
    "rf_model.fit(X_train, y_train)\n",
    "\n",
    "# Predictions\n",
    "y_pred_rf = rf_model.predict(X_test)\n",
    "\n",
    "# Print classification report\n",
    "print(\"Random Forest Classification Report:\\n\", classification_report(y_test, y_pred_rf))\n",
    "\n",
    "# Plot confusion matrix\n",
    "plot_confusion_matrix(y_test, y_pred_rf, \"Random Forest\")"
   ]
  },
  {
   "cell_type": "code",
   "execution_count": null,
   "id": "b510887f-c272-411e-bdb2-cb10cfdb355b",
   "metadata": {},
   "outputs": [],
   "source": []
  }
 ],
 "metadata": {
  "kernelspec": {
   "display_name": "Python [conda env:base] *",
   "language": "python",
   "name": "conda-base-py"
  },
  "language_info": {
   "codemirror_mode": {
    "name": "ipython",
    "version": 3
   },
   "file_extension": ".py",
   "mimetype": "text/x-python",
   "name": "python",
   "nbconvert_exporter": "python",
   "pygments_lexer": "ipython3",
   "version": "3.12.7"
  }
 },
 "nbformat": 4,
 "nbformat_minor": 5
}
